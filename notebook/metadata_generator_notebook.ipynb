{
  "nbformat": 4,
  "nbformat_minor": 0,
  "metadata": {
    "colab": {
      "provenance": [],
      "gpuType": "T4"
    },
    "kernelspec": {
      "name": "python3",
      "display_name": "Python 3"
    },
    "language_info": {
      "name": "python"
    },
    "accelerator": "GPU"
  },
  "cells": [
    {
      "cell_type": "markdown",
      "source": [
        "## **MARS PROJECT : AUTOMATED METADATA GENERATION**\n",
        "\n",
        "### By Karan Sardar ( 22118035 ) MT 4th Yr"
      ],
      "metadata": {
        "id": "-2xZtZYlep8d"
      }
    },
    {
      "cell_type": "markdown",
      "source": [
        "### Installation of Important Libraries"
      ],
      "metadata": {
        "id": "I6e6cX1kJAM4"
      }
    },
    {
      "cell_type": "code",
      "source": [
        "!pip install groq pytesseract python-docx pdf2image langdetect spacy PyPDF2 pymupdf scikit-learn --quiet\n",
        "!python -m spacy download en_core_web_sm --quiet"
      ],
      "metadata": {
        "colab": {
          "base_uri": "https://localhost:8080/"
        },
        "id": "FUfr6O40t-jF",
        "outputId": "20fa85a9-05b2-4bc8-a7ab-4a398e9b3dbd"
      },
      "execution_count": null,
      "outputs": [
        {
          "output_type": "stream",
          "name": "stdout",
          "text": [
            "Collecting groq\n",
            "  Downloading groq-0.28.0-py3-none-any.whl.metadata (15 kB)\n",
            "Requirement already satisfied: anyio<5,>=3.5.0 in /usr/local/lib/python3.11/dist-packages (from groq) (4.9.0)\n",
            "Requirement already satisfied: distro<2,>=1.7.0 in /usr/local/lib/python3.11/dist-packages (from groq) (1.9.0)\n",
            "Requirement already satisfied: httpx<1,>=0.23.0 in /usr/local/lib/python3.11/dist-packages (from groq) (0.28.1)\n",
            "Requirement already satisfied: pydantic<3,>=1.9.0 in /usr/local/lib/python3.11/dist-packages (from groq) (2.11.7)\n",
            "Requirement already satisfied: sniffio in /usr/local/lib/python3.11/dist-packages (from groq) (1.3.1)\n",
            "Requirement already satisfied: typing-extensions<5,>=4.10 in /usr/local/lib/python3.11/dist-packages (from groq) (4.14.0)\n",
            "Requirement already satisfied: idna>=2.8 in /usr/local/lib/python3.11/dist-packages (from anyio<5,>=3.5.0->groq) (3.10)\n",
            "Requirement already satisfied: certifi in /usr/local/lib/python3.11/dist-packages (from httpx<1,>=0.23.0->groq) (2025.6.15)\n",
            "Requirement already satisfied: httpcore==1.* in /usr/local/lib/python3.11/dist-packages (from httpx<1,>=0.23.0->groq) (1.0.9)\n",
            "Requirement already satisfied: h11>=0.16 in /usr/local/lib/python3.11/dist-packages (from httpcore==1.*->httpx<1,>=0.23.0->groq) (0.16.0)\n",
            "Requirement already satisfied: annotated-types>=0.6.0 in /usr/local/lib/python3.11/dist-packages (from pydantic<3,>=1.9.0->groq) (0.7.0)\n",
            "Requirement already satisfied: pydantic-core==2.33.2 in /usr/local/lib/python3.11/dist-packages (from pydantic<3,>=1.9.0->groq) (2.33.2)\n",
            "Requirement already satisfied: typing-inspection>=0.4.0 in /usr/local/lib/python3.11/dist-packages (from pydantic<3,>=1.9.0->groq) (0.4.1)\n",
            "Downloading groq-0.28.0-py3-none-any.whl (130 kB)\n",
            "\u001b[2K   \u001b[90m━━━━━━━━━━━━━━━━━━━━━━━━━━━━━━━━━━━━━━━━\u001b[0m \u001b[32m130.2/130.2 kB\u001b[0m \u001b[31m5.0 MB/s\u001b[0m eta \u001b[36m0:00:00\u001b[0m\n",
            "\u001b[?25hInstalling collected packages: groq\n",
            "Successfully installed groq-0.28.0\n"
          ]
        }
      ]
    },
    {
      "cell_type": "markdown",
      "source": [
        "### Importing libraries"
      ],
      "metadata": {
        "id": "On6Sj04eJFJ9"
      }
    },
    {
      "cell_type": "code",
      "source": [
        "import os\n",
        "from groq import Groq\n",
        "import pytesseract\n",
        "from PIL import Image\n",
        "from PyPDF2 import PdfReader\n",
        "from pdf2image import convert_from_path\n",
        "import docx\n",
        "from langdetect import detect\n",
        "import spacy\n",
        "import json\n",
        "import fitz\n",
        "from datetime import datetime\n",
        "from sklearn.feature_extraction.text import TfidfVectorizer\n",
        "from collections import Counter\n",
        "import re"
      ],
      "metadata": {
        "id": "YSfY02o3E9R7"
      },
      "execution_count": 46,
      "outputs": []
    },
    {
      "cell_type": "markdown",
      "source": [
        "### Uploading File in txt, docx or pdf format"
      ],
      "metadata": {
        "id": "_zLmn_rGJIhZ"
      }
    },
    {
      "cell_type": "code",
      "source": [
        "from google.colab import files\n",
        "uploaded = files.upload()\n",
        "file_path = list(uploaded.keys())[0]"
      ],
      "metadata": {
        "colab": {
          "base_uri": "https://localhost:8080/",
          "height": 74
        },
        "id": "r72tkPiGFDzq",
        "outputId": "fc8344fa-5c0c-40da-aa55-3ab76a18f416"
      },
      "execution_count": 47,
      "outputs": [
        {
          "output_type": "display_data",
          "data": {
            "text/plain": [
              "<IPython.core.display.HTML object>"
            ],
            "text/html": [
              "\n",
              "     <input type=\"file\" id=\"files-48e84b0e-cf45-4c2b-a54f-fa96efdee062\" name=\"files[]\" multiple disabled\n",
              "        style=\"border:none\" />\n",
              "     <output id=\"result-48e84b0e-cf45-4c2b-a54f-fa96efdee062\">\n",
              "      Upload widget is only available when the cell has been executed in the\n",
              "      current browser session. Please rerun this cell to enable.\n",
              "      </output>\n",
              "      <script>// Copyright 2017 Google LLC\n",
              "//\n",
              "// Licensed under the Apache License, Version 2.0 (the \"License\");\n",
              "// you may not use this file except in compliance with the License.\n",
              "// You may obtain a copy of the License at\n",
              "//\n",
              "//      http://www.apache.org/licenses/LICENSE-2.0\n",
              "//\n",
              "// Unless required by applicable law or agreed to in writing, software\n",
              "// distributed under the License is distributed on an \"AS IS\" BASIS,\n",
              "// WITHOUT WARRANTIES OR CONDITIONS OF ANY KIND, either express or implied.\n",
              "// See the License for the specific language governing permissions and\n",
              "// limitations under the License.\n",
              "\n",
              "/**\n",
              " * @fileoverview Helpers for google.colab Python module.\n",
              " */\n",
              "(function(scope) {\n",
              "function span(text, styleAttributes = {}) {\n",
              "  const element = document.createElement('span');\n",
              "  element.textContent = text;\n",
              "  for (const key of Object.keys(styleAttributes)) {\n",
              "    element.style[key] = styleAttributes[key];\n",
              "  }\n",
              "  return element;\n",
              "}\n",
              "\n",
              "// Max number of bytes which will be uploaded at a time.\n",
              "const MAX_PAYLOAD_SIZE = 100 * 1024;\n",
              "\n",
              "function _uploadFiles(inputId, outputId) {\n",
              "  const steps = uploadFilesStep(inputId, outputId);\n",
              "  const outputElement = document.getElementById(outputId);\n",
              "  // Cache steps on the outputElement to make it available for the next call\n",
              "  // to uploadFilesContinue from Python.\n",
              "  outputElement.steps = steps;\n",
              "\n",
              "  return _uploadFilesContinue(outputId);\n",
              "}\n",
              "\n",
              "// This is roughly an async generator (not supported in the browser yet),\n",
              "// where there are multiple asynchronous steps and the Python side is going\n",
              "// to poll for completion of each step.\n",
              "// This uses a Promise to block the python side on completion of each step,\n",
              "// then passes the result of the previous step as the input to the next step.\n",
              "function _uploadFilesContinue(outputId) {\n",
              "  const outputElement = document.getElementById(outputId);\n",
              "  const steps = outputElement.steps;\n",
              "\n",
              "  const next = steps.next(outputElement.lastPromiseValue);\n",
              "  return Promise.resolve(next.value.promise).then((value) => {\n",
              "    // Cache the last promise value to make it available to the next\n",
              "    // step of the generator.\n",
              "    outputElement.lastPromiseValue = value;\n",
              "    return next.value.response;\n",
              "  });\n",
              "}\n",
              "\n",
              "/**\n",
              " * Generator function which is called between each async step of the upload\n",
              " * process.\n",
              " * @param {string} inputId Element ID of the input file picker element.\n",
              " * @param {string} outputId Element ID of the output display.\n",
              " * @return {!Iterable<!Object>} Iterable of next steps.\n",
              " */\n",
              "function* uploadFilesStep(inputId, outputId) {\n",
              "  const inputElement = document.getElementById(inputId);\n",
              "  inputElement.disabled = false;\n",
              "\n",
              "  const outputElement = document.getElementById(outputId);\n",
              "  outputElement.innerHTML = '';\n",
              "\n",
              "  const pickedPromise = new Promise((resolve) => {\n",
              "    inputElement.addEventListener('change', (e) => {\n",
              "      resolve(e.target.files);\n",
              "    });\n",
              "  });\n",
              "\n",
              "  const cancel = document.createElement('button');\n",
              "  inputElement.parentElement.appendChild(cancel);\n",
              "  cancel.textContent = 'Cancel upload';\n",
              "  const cancelPromise = new Promise((resolve) => {\n",
              "    cancel.onclick = () => {\n",
              "      resolve(null);\n",
              "    };\n",
              "  });\n",
              "\n",
              "  // Wait for the user to pick the files.\n",
              "  const files = yield {\n",
              "    promise: Promise.race([pickedPromise, cancelPromise]),\n",
              "    response: {\n",
              "      action: 'starting',\n",
              "    }\n",
              "  };\n",
              "\n",
              "  cancel.remove();\n",
              "\n",
              "  // Disable the input element since further picks are not allowed.\n",
              "  inputElement.disabled = true;\n",
              "\n",
              "  if (!files) {\n",
              "    return {\n",
              "      response: {\n",
              "        action: 'complete',\n",
              "      }\n",
              "    };\n",
              "  }\n",
              "\n",
              "  for (const file of files) {\n",
              "    const li = document.createElement('li');\n",
              "    li.append(span(file.name, {fontWeight: 'bold'}));\n",
              "    li.append(span(\n",
              "        `(${file.type || 'n/a'}) - ${file.size} bytes, ` +\n",
              "        `last modified: ${\n",
              "            file.lastModifiedDate ? file.lastModifiedDate.toLocaleDateString() :\n",
              "                                    'n/a'} - `));\n",
              "    const percent = span('0% done');\n",
              "    li.appendChild(percent);\n",
              "\n",
              "    outputElement.appendChild(li);\n",
              "\n",
              "    const fileDataPromise = new Promise((resolve) => {\n",
              "      const reader = new FileReader();\n",
              "      reader.onload = (e) => {\n",
              "        resolve(e.target.result);\n",
              "      };\n",
              "      reader.readAsArrayBuffer(file);\n",
              "    });\n",
              "    // Wait for the data to be ready.\n",
              "    let fileData = yield {\n",
              "      promise: fileDataPromise,\n",
              "      response: {\n",
              "        action: 'continue',\n",
              "      }\n",
              "    };\n",
              "\n",
              "    // Use a chunked sending to avoid message size limits. See b/62115660.\n",
              "    let position = 0;\n",
              "    do {\n",
              "      const length = Math.min(fileData.byteLength - position, MAX_PAYLOAD_SIZE);\n",
              "      const chunk = new Uint8Array(fileData, position, length);\n",
              "      position += length;\n",
              "\n",
              "      const base64 = btoa(String.fromCharCode.apply(null, chunk));\n",
              "      yield {\n",
              "        response: {\n",
              "          action: 'append',\n",
              "          file: file.name,\n",
              "          data: base64,\n",
              "        },\n",
              "      };\n",
              "\n",
              "      let percentDone = fileData.byteLength === 0 ?\n",
              "          100 :\n",
              "          Math.round((position / fileData.byteLength) * 100);\n",
              "      percent.textContent = `${percentDone}% done`;\n",
              "\n",
              "    } while (position < fileData.byteLength);\n",
              "  }\n",
              "\n",
              "  // All done.\n",
              "  yield {\n",
              "    response: {\n",
              "      action: 'complete',\n",
              "    }\n",
              "  };\n",
              "}\n",
              "\n",
              "scope.google = scope.google || {};\n",
              "scope.google.colab = scope.google.colab || {};\n",
              "scope.google.colab._files = {\n",
              "  _uploadFiles,\n",
              "  _uploadFilesContinue,\n",
              "};\n",
              "})(self);\n",
              "</script> "
            ]
          },
          "metadata": {}
        },
        {
          "output_type": "stream",
          "name": "stdout",
          "text": [
            "Saving Biobank-Cohort- sustainability guidelines.pdf to Biobank-Cohort- sustainability guidelines (1).pdf\n"
          ]
        }
      ]
    },
    {
      "cell_type": "markdown",
      "source": [
        "### Groq Setup"
      ],
      "metadata": {
        "id": "BWV4q8axJNIq"
      }
    },
    {
      "cell_type": "code",
      "source": [
        "GROQ_API_KEY = \"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\"\n",
        "client = Groq(api_key=GROQ_API_KEY)\n",
        "nlp = spacy.load(\"en_core_web_sm\")\n"
      ],
      "metadata": {
        "id": "YxAf8T_pFVb1"
      },
      "execution_count": 48,
      "outputs": []
    },
    {
      "cell_type": "markdown",
      "source": [
        "### Text Extraction from file"
      ],
      "metadata": {
        "id": "sFhWsW0fJXb5"
      }
    },
    {
      "cell_type": "code",
      "source": [
        "def extract_text_from_file(file_path):\n",
        "    ext = file_path.split('.')[-1].lower()\n",
        "    text = \"\"\n",
        "\n",
        "    if ext == 'pdf':\n",
        "        try:\n",
        "            doc = fitz.open(file_path)\n",
        "            for page in doc:\n",
        "                text += page.get_text()\n",
        "            doc.close()\n",
        "\n",
        "            if len(text.strip()) < 50:\n",
        "                images = convert_from_path(file_path)\n",
        "                for image in images:\n",
        "                    text += pytesseract.image_to_string(image, lang='eng')\n",
        "        except:\n",
        "            pdf = PdfReader(file_path)\n",
        "            for page in pdf.pages:\n",
        "                text += page.extract_text() or \"\"\n",
        "\n",
        "    elif ext == 'docx':\n",
        "        doc = docx.Document(file_path)\n",
        "        text = '\\n'.join([para.text for para in doc.paragraphs])\n",
        "\n",
        "    elif ext == 'txt':\n",
        "        with open(file_path, 'r', encoding='utf-8') as f:\n",
        "            text = f.read()\n",
        "\n",
        "    return text.strip()\n",
        "\n",
        "text = extract_text_from_file(file_path)\n",
        "print(f\"Extracted {len(text)} characters\")\n",
        "\n",
        "\n",
        "\n",
        "\n",
        "\n"
      ],
      "metadata": {
        "colab": {
          "base_uri": "https://localhost:8080/"
        },
        "id": "RV2ZVSeXFcGZ",
        "outputId": "589474d5-b536-4fa1-c442-b210a7e22716"
      },
      "execution_count": 49,
      "outputs": [
        {
          "output_type": "stream",
          "name": "stdout",
          "text": [
            "Extracted 65147 characters\n"
          ]
        }
      ]
    },
    {
      "cell_type": "markdown",
      "source": [
        "### Enhanced keyword extraction using TF-IDF + NER"
      ],
      "metadata": {
        "id": "OB3Chs6YJcwj"
      }
    },
    {
      "cell_type": "code",
      "source": [
        "def extract_enhanced_keywords(text, max_keywords=15):\n",
        "    # text cleaning\n",
        "    text_clean = re.sub(r'[^\\w\\s]', ' ', text.lower())\n",
        "\n",
        "    # TF-IDF based keywords\n",
        "    vectorizer = TfidfVectorizer(max_features=100, stop_words='english', ngram_range=(1, 3))\n",
        "    tfidf_matrix = vectorizer.fit_transform([text_clean])\n",
        "    feature_names = vectorizer.get_feature_names_out()\n",
        "    tfidf_scores = tfidf_matrix.toarray()[0]\n",
        "\n",
        "    #top TF-IDF keywords\n",
        "    tfidf_keywords = [(feature_names[i], tfidf_scores[i]) for i in tfidf_scores.argsort()[-20:][::-1]]\n",
        "\n",
        "    #Named entities as keywords\n",
        "    doc = nlp(text)\n",
        "    entities = [(ent.text.lower(), ent.label_) for ent in doc.ents if len(ent.text) > 2]\n",
        "\n",
        "    all_keywords = []\n",
        "    for kw, score in tfidf_keywords:\n",
        "        if len(kw) > 2 and score > 0.01:\n",
        "            all_keywords.append(kw)\n",
        "\n",
        "    # important entities\n",
        "    for ent, label in entities:\n",
        "        if label in ['PERSON', 'ORG', 'GPE', 'PRODUCT', 'EVENT'] and ent not in all_keywords:\n",
        "            all_keywords.append(ent)\n",
        "\n",
        "    return all_keywords[:max_keywords]\n",
        "\n",
        "keywords = extract_enhanced_keywords(text)"
      ],
      "metadata": {
        "id": "TkxqnP9nJb0N"
      },
      "execution_count": 50,
      "outputs": []
    },
    {
      "cell_type": "markdown",
      "source": [
        "### Enhanced summarization using LLama 3.1 LLM"
      ],
      "metadata": {
        "id": "X2iOnhAjJuED"
      }
    },
    {
      "cell_type": "code",
      "source": [
        "def create_intelligent_summary(text, max_length=300):\n",
        "    if len(text.strip()) < 100:\n",
        "        return text.strip()\n",
        "    chunk_size = 8000\n",
        "    chunks = [text[i:i+chunk_size] for i in range(0, len(text), chunk_size)]\n",
        "\n",
        "    summaries = []\n",
        "\n",
        "    for i, chunk in enumerate(chunks[:3]):\n",
        "        try:\n",
        "            response = client.chat.completions.create(\n",
        "                messages=[\n",
        "                    {\n",
        "                        \"role\": \"system\",\n",
        "                        \"content\": \"You are an expert at creating concise, informative summaries. Extract the key points and main ideas from the text.\"\n",
        "                    },\n",
        "                    {\n",
        "                        \"role\": \"user\",\n",
        "                        \"content\": f\"Summarize this text in 2-3 sentences, focusing on the main points:\\n\\n{chunk}\"\n",
        "                    }\n",
        "                ],\n",
        "                model=\"llama-3.1-8b-instant\",\n",
        "                max_tokens=150,\n",
        "                temperature=0.3\n",
        "            )\n",
        "            summaries.append(response.choices[0].message.content.strip())\n",
        "        except Exception as e:\n",
        "            print(f\"Error summarizing chunk {i+1}: {e}\")\n",
        "            sentences = chunk.split('. ')[:3]\n",
        "            summaries.append('. '.join(sentences) + '.')\n",
        "\n",
        "    # Combining summaries\n",
        "    combined_summary = ' '.join(summaries)\n",
        "\n",
        "    # If summary is still too long, summarizing the summaries\n",
        "    if len(combined_summary) > max_length and len(summaries) > 1:\n",
        "        try:\n",
        "            response = client.chat.completions.create(\n",
        "                messages=[\n",
        "                    {\n",
        "                        \"role\": \"system\",\n",
        "                        \"content\": \"Create a final concise summary from these partial summaries.\"\n",
        "                    },\n",
        "                    {\n",
        "                        \"role\": \"user\",\n",
        "                        \"content\": f\"Combine these summaries into one coherent summary (max 2-3 sentences):\\n\\n{combined_summary}\"\n",
        "                    }\n",
        "                ],\n",
        "                model=\"llama-3.1-8b-instant\",\n",
        "                max_tokens=100,\n",
        "                temperature=0.3\n",
        "            )\n",
        "            return response.choices[0].message.content.strip()\n",
        "        except:\n",
        "            return combined_summary[:max_length] + \"...\"\n",
        "\n",
        "    return combined_summary\n",
        "\n",
        "\n",
        "summary = create_intelligent_summary(text)"
      ],
      "metadata": {
        "id": "GhVeaPTdJpCi"
      },
      "execution_count": 51,
      "outputs": []
    },
    {
      "cell_type": "markdown",
      "source": [
        "### Extracting Topics and themes from file"
      ],
      "metadata": {
        "id": "tHcHFcJeKHQ9"
      }
    },
    {
      "cell_type": "code",
      "source": [
        "def extract_topics_and_themes(text, keywords):\n",
        "    try:\n",
        "        kw_text = \", \".join(keywords[:10])\n",
        "        response = client.chat.completions.create(\n",
        "            messages=[\n",
        "                {\n",
        "                    \"role\": \"system\",\n",
        "                    \"content\": \"You are an expert at identifying main topics and themes in documents. Based on the keywords and content, identify 3-5 main topics/themes.\"\n",
        "                },\n",
        "                {\n",
        "                    \"role\": \"user\",\n",
        "                    \"content\": f\"Based on these keywords: {kw_text}\\n\\nAnd this text sample: {text[:1000]}...\\n\\nIdentify the main topics/themes (return as a simple list):\"\n",
        "                }\n",
        "            ],\n",
        "            model=\"llama-3.1-8b-instant\",\n",
        "            max_tokens=100,\n",
        "            temperature=0.4\n",
        "        )\n",
        "        topics_text = response.choices[0].message.content.strip()\n",
        "        topics = [topic.strip('- ').strip() for topic in topics_text.split('\\n') if topic.strip()]\n",
        "        return topics[:5]\n",
        "    except Exception as e:\n",
        "        print(f\"Error extracting topics: {e}\")\n",
        "        return keywords[:5]\n",
        "\n",
        "topics = extract_topics_and_themes(text, keywords)"
      ],
      "metadata": {
        "id": "nVZuxF0WFh4e"
      },
      "execution_count": 52,
      "outputs": []
    },
    {
      "cell_type": "markdown",
      "source": [
        "### Extracting Title, Named entities and language detection"
      ],
      "metadata": {
        "id": "GnZeZHhoKQPO"
      }
    },
    {
      "cell_type": "code",
      "source": [
        "doc = nlp(text)\n",
        "entities = {}\n",
        "for ent in doc.ents:\n",
        "    if ent.label_ not in entities:\n",
        "        entities[ent.label_] = []\n",
        "    entities[ent.label_].append(ent.text)\n",
        "\n",
        "for label in entities:\n",
        "    entities[label] = list(set(entities[label]))[:10]\n",
        "\n",
        "# Detecting language\n",
        "try:\n",
        "    language = detect(text)\n",
        "except:\n",
        "    language = \"unknown\"\n",
        "\n",
        "# Extracting potential title\n",
        "title = \"Untitled\"\n",
        "lines = text.split('\\n')\n",
        "for line in lines[:10]:\n",
        "    line = line.strip()\n",
        "    if 10 < len(line) < 150 and not line.isdigit():\n",
        "        title = line\n",
        "        break\n",
        "\n",
        "\n"
      ],
      "metadata": {
        "id": "ScGDiV1RFvBI"
      },
      "execution_count": 53,
      "outputs": []
    },
    {
      "cell_type": "markdown",
      "source": [
        "### Readability Metrics for Statistical Metadata"
      ],
      "metadata": {
        "id": "GH8ZD-7rKrA0"
      }
    },
    {
      "cell_type": "code",
      "source": [
        "sentences = len(re.findall(r'[.!?]+', text))\n",
        "words = len(text.split())\n",
        "avg_words_per_sentence = words / max(sentences, 1)\n"
      ],
      "metadata": {
        "id": "O_8MIYx3KpjI"
      },
      "execution_count": 54,
      "outputs": []
    },
    {
      "cell_type": "markdown",
      "source": [
        "### Final Metadata"
      ],
      "metadata": {
        "id": "G7jJAtbzLJcX"
      }
    },
    {
      "cell_type": "code",
      "source": [
        "metadata = {\n",
        "    \"filename\": file_path,\n",
        "    \"title\": title,\n",
        "    \"summary\": summary,\n",
        "    \"topics_and_themes\": topics,\n",
        "    \"keywords\": keywords,\n",
        "    \"language\": language,\n",
        "    \"statistics\": {\n",
        "        \"word_count\": words,\n",
        "        \"character_count\": len(text),\n",
        "        \"sentence_count\": sentences,\n",
        "        \"avg_words_per_sentence\": round(avg_words_per_sentence, 2)\n",
        "    },\n",
        "    \"named_entities\": entities,\n",
        "    \"created_at\": datetime.now().isoformat(),\n",
        "    \"extraction_method\": \"Enhanced with Groq LLM\"\n",
        "}"
      ],
      "metadata": {
        "id": "5mCkQAbkKm0h"
      },
      "execution_count": 55,
      "outputs": []
    },
    {
      "cell_type": "code",
      "source": [
        "print(\"METADATA RESULTS\")\n",
        "print(\"=\"*60)\n",
        "print(f\"Title: {metadata['title']}\")\n",
        "print(f\"\\nFileName: :{metadata['filename']}\")\n",
        "print(f\"\\nSummary:\\n{metadata['summary']}\")\n",
        "print(f\"\\nMain Topics: {', '.join(metadata['topics_and_themes'])}\")\n",
        "print(f\"\\nTop Keywords: {', '.join(metadata['keywords'][:10])}\")\n",
        "print(f\"\\nLanguage: {metadata['language']}\")\n",
        "print(f\"\\nStatistics: {metadata['statistics']}\")\n",
        "print(f\"\\nCreated at: {metadata['created_at']}\")\n",
        "print(f\"\\nNamed Entities: {metadata['named_entities']} types found\")\n"
      ],
      "metadata": {
        "colab": {
          "base_uri": "https://localhost:8080/"
        },
        "id": "-CG0BC_DFzak",
        "outputId": "5ba39878-3170-4271-8a8f-4991183f505c"
      },
      "execution_count": 56,
      "outputs": [
        {
          "output_type": "stream",
          "name": "stdout",
          "text": [
            "METADATA RESULTS\n",
            "============================================================\n",
            "Title: Guidelines for sustaining DBT- Bio-Banks and Cohorts\n",
            "\n",
            "FileName: :Biobank-Cohort- sustainability guidelines (1).pdf\n",
            "\n",
            "Summary:\n",
            "Here's a concise summary of the main points in 2-3 sentences:\n",
            "\n",
            "The Department of Biotechnology (DBT) aims to establish a strong governance structure and oversight mechanism to safeguard the scientific relevance and financial sustainability of bio-banks, cohorts, and demographic sites in India. A proposed governance model includes a national executive committee, site-specific governance committees, and annual reviews to ensure long-term sustainability, accountability, and transparency. The guidelines outline eligibility criteria and procedures for access to and sharing of samples and\n",
            "\n",
            "Main Topics: Based on the keywords and content, here are the 3-5 main topics/themes:, 1. Bio-banks and cohorts, 2. Research and data management, 3. Governance and sustainability\n",
            "\n",
            "Top Keywords: data, bio, repository, banks, bio banks, cohorts, samples, research, bio banks cohorts, banks cohorts\n",
            "\n",
            "Language: en\n",
            "\n",
            "Statistics: {'word_count': 8799, 'character_count': 65147, 'sentence_count': 600, 'avg_words_per_sentence': 14.66}\n",
            "\n",
            "Created at: 2025-06-24T15:09:26.150562\n",
            "\n",
            "Named Entities: {'ORG': ['Requesting Institution', 'TB', 'Receiving \\nInstitute', 'BMC Med \\nEthics.2016', 'Data Transfer Agreement', 'Project Progress Report Format', 'Science for Applied Medicine', 'Institutional Bio Safety Committee/ \\nReview Committee of Genetic', 'Campbell', 'Quality (External evaluations) \\n \\n \\n \\n \\n'], 'CARDINAL': ['14', '4', '3.1', '10.1089', '12', '4.3', '3.2', '1.3', '4.6', '11'], 'PERSON': ['Stationary', 'https://doi.org/10.1089/bio.2018.0001 \\n\\uf0b7 \\n', 'Intellectual Property', 'Yuille M', 'Vol', 'Advertise', 'Ongoing/ Completed \\n7', 'https://doi.org/10.20529/IJME.2014.022', 'Georghiou L', 'and/or bio-samples'], 'DATE': ['14', 'annual', 'February 1', 'a day', '24620771', 'Year 1 \\n \\nDescription \\nNumber \\nPerson', 'years] years', 'annually', '2050', '2016 Nov 18'], 'GPE': ['India', 'Foresee', 'Accreditationprograms', 'Sieffert', 'Background', 'PMC4150367', 'Requesting', 'pp', 'U.S.'], 'NORP': ['d.', 'PMCID', 'Indian', 'Technician', 'Standards'], 'WORK_OF_ART': ['Date \\n \\n \\n \\nGuidelines for sustaining bio-banks \\n', 'Research \\nProject', 'The Materials/Data', 'Name of Repository', 'the Chair of the Apex National Executive Group', 'Signature of Repository', 'Materials and Data', 'the Purposes of Use', 'Materials/Data', 'the Materials or Information'], 'ORDINAL': ['third', 'first'], 'PRODUCT': ['• Assemble', 'Agreement'], 'LAW': ['Table 3'], 'EVENT': ['The 2018 Revision of the ISBER Best Practices', 'the Purposes of Use'], 'PERCENT': ['~25%', '20%', '15%', '2014 Feb;12(1):60-8'], 'FAC': ['the Term of this Agreement'], 'TIME': ['9.']} types found\n"
          ]
        }
      ]
    },
    {
      "cell_type": "markdown",
      "source": [
        "### Saving in JSON format"
      ],
      "metadata": {
        "id": "NmA03fY1eZF-"
      }
    },
    {
      "cell_type": "code",
      "source": [
        "json_path = os.path.splitext(file_path)[0] + \"_enhanced_metadata.json\"\n",
        "with open(json_path, \"w\", encoding='utf-8') as f:\n",
        "    json.dump(metadata, f, indent=2, ensure_ascii=False)"
      ],
      "metadata": {
        "id": "EaAEmO8teYU5"
      },
      "execution_count": 57,
      "outputs": []
    },
    {
      "cell_type": "code",
      "source": [],
      "metadata": {
        "id": "_grOjepAfL1F"
      },
      "execution_count": null,
      "outputs": []
    }
  ]
}